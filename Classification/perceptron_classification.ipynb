{
  "cells": [
    {
      "cell_type": "code",
      "execution_count": 3,
      "metadata": {
        "id": "DKp9imGZO2LD"
      },
      "outputs": [],
      "source": [
        "import numpy as np\n",
        "import pandas as pd\n",
        "from keras.models import Sequential\n",
        "from keras.layers import Dense\n",
        "from sklearn.model_selection import train_test_split\n",
        "from sklearn.preprocessing import StandardScaler"
      ]
    },
    {
      "cell_type": "code",
      "execution_count": 4,
      "metadata": {
        "colab": {
          "base_uri": "https://localhost:8080/"
        },
        "id": "iHeWMZr0O3ju",
        "outputId": "e4099525-062a-4857-c38a-721b43e8d4c9"
      },
      "outputs": [
        {
          "name": "stdout",
          "output_type": "stream",
          "text": [
            "   Pregnancies  Glucose  BloodPressure  SkinThickness  Insulin   BMI  \\\n",
            "0            6      148             72             35        0  33.6   \n",
            "1            1       85             66             29        0  26.6   \n",
            "2            8      183             64              0        0  23.3   \n",
            "3            1       89             66             23       94  28.1   \n",
            "4            0      137             40             35      168  43.1   \n",
            "\n",
            "   DiabetesPedigreeFunction  Age  Outcome  \n",
            "0                     0.627   50        1  \n",
            "1                     0.351   31        0  \n",
            "2                     0.672   32        1  \n",
            "3                     0.167   21        0  \n",
            "4                     2.288   33        1  \n"
          ]
        }
      ],
      "source": [
        "df = pd.read_csv('/content/pima indian diabetes.csv')\n",
        "\n",
        "# Display the first few rows of the dataset\n",
        "print(df.head())"
      ]
    },
    {
      "cell_type": "code",
      "execution_count": 6,
      "metadata": {
        "id": "bj-vn9A0PJty"
      },
      "outputs": [],
      "source": [
        "# Split dataset into features (X) and target (y)\n",
        "X = df.drop(columns=['Outcome'])\n",
        "y = df['Outcome']\n",
        "\n",
        "# Normalize features\n",
        "scaler = StandardScaler()\n",
        "X_normalized = scaler.fit_transform(X)\n",
        "\n",
        "# Split dataset into training and testing set\n",
        "X_train, X_test, y_train, y_test = train_test_split(X_normalized, y, test_size=0.2, random_state=42)\n"
      ]
    },
    {
      "cell_type": "code",
      "execution_count": 7,
      "metadata": {
        "id": "9yJmEj5wP1Zz"
      },
      "outputs": [],
      "source": [
        "# Define the model\n",
        "model = Sequential()\n",
        "model.add(Dense(1, input_shape=(X_train.shape[1],), activation='sigmoid'))\n",
        "\n",
        "# Compile the model\n",
        "model.compile(optimizer='adam', loss='binary_crossentropy', metrics=['accuracy'])\n"
      ]
    },
    {
      "cell_type": "code",
      "execution_count": 8,
      "metadata": {
        "colab": {
          "base_uri": "https://localhost:8080/"
        },
        "id": "W76_0dbIQhLM",
        "outputId": "882b20bb-226a-43b0-e63d-add71a5f80b7"
      },
      "outputs": [
        {
          "name": "stdout",
          "output_type": "stream",
          "text": [
            "Epoch 1/100\n",
            "50/50 [==============================] - 1s 8ms/step - loss: 0.8465 - accuracy: 0.4175 - val_loss: 0.8786 - val_accuracy: 0.4390\n",
            "Epoch 2/100\n",
            "50/50 [==============================] - 0s 6ms/step - loss: 0.8133 - accuracy: 0.4542 - val_loss: 0.8488 - val_accuracy: 0.4797\n",
            "Epoch 3/100\n",
            "50/50 [==============================] - 0s 4ms/step - loss: 0.7836 - accuracy: 0.4888 - val_loss: 0.8200 - val_accuracy: 0.4797\n",
            "Epoch 4/100\n",
            "50/50 [==============================] - 0s 4ms/step - loss: 0.7561 - accuracy: 0.5275 - val_loss: 0.7944 - val_accuracy: 0.5285\n",
            "Epoch 5/100\n",
            "50/50 [==============================] - 0s 4ms/step - loss: 0.7324 - accuracy: 0.5540 - val_loss: 0.7727 - val_accuracy: 0.5447\n",
            "Epoch 6/100\n",
            "50/50 [==============================] - 0s 4ms/step - loss: 0.7110 - accuracy: 0.5743 - val_loss: 0.7512 - val_accuracy: 0.6016\n",
            "Epoch 7/100\n",
            "50/50 [==============================] - 0s 5ms/step - loss: 0.6917 - accuracy: 0.5967 - val_loss: 0.7323 - val_accuracy: 0.6098\n",
            "Epoch 8/100\n",
            "50/50 [==============================] - 0s 5ms/step - loss: 0.6734 - accuracy: 0.6253 - val_loss: 0.7145 - val_accuracy: 0.6179\n",
            "Epoch 9/100\n",
            "50/50 [==============================] - 0s 5ms/step - loss: 0.6567 - accuracy: 0.6375 - val_loss: 0.6982 - val_accuracy: 0.6423\n",
            "Epoch 10/100\n",
            "50/50 [==============================] - 0s 5ms/step - loss: 0.6412 - accuracy: 0.6640 - val_loss: 0.6825 - val_accuracy: 0.6260\n",
            "Epoch 11/100\n",
            "50/50 [==============================] - 0s 9ms/step - loss: 0.6279 - accuracy: 0.6701 - val_loss: 0.6690 - val_accuracy: 0.6341\n",
            "Epoch 12/100\n",
            "50/50 [==============================] - 0s 3ms/step - loss: 0.6155 - accuracy: 0.6701 - val_loss: 0.6555 - val_accuracy: 0.6341\n",
            "Epoch 13/100\n",
            "50/50 [==============================] - 0s 3ms/step - loss: 0.6041 - accuracy: 0.6701 - val_loss: 0.6441 - val_accuracy: 0.6423\n",
            "Epoch 14/100\n",
            "50/50 [==============================] - 0s 3ms/step - loss: 0.5947 - accuracy: 0.6741 - val_loss: 0.6331 - val_accuracy: 0.6585\n",
            "Epoch 15/100\n",
            "50/50 [==============================] - 0s 3ms/step - loss: 0.5854 - accuracy: 0.6843 - val_loss: 0.6237 - val_accuracy: 0.6667\n",
            "Epoch 16/100\n",
            "50/50 [==============================] - 0s 3ms/step - loss: 0.5771 - accuracy: 0.6965 - val_loss: 0.6144 - val_accuracy: 0.6829\n",
            "Epoch 17/100\n",
            "50/50 [==============================] - 0s 3ms/step - loss: 0.5695 - accuracy: 0.7006 - val_loss: 0.6056 - val_accuracy: 0.6748\n",
            "Epoch 18/100\n",
            "50/50 [==============================] - 0s 3ms/step - loss: 0.5622 - accuracy: 0.7047 - val_loss: 0.5978 - val_accuracy: 0.6829\n",
            "Epoch 19/100\n",
            "50/50 [==============================] - 0s 3ms/step - loss: 0.5556 - accuracy: 0.7108 - val_loss: 0.5902 - val_accuracy: 0.6748\n",
            "Epoch 20/100\n",
            "50/50 [==============================] - 0s 3ms/step - loss: 0.5494 - accuracy: 0.7189 - val_loss: 0.5832 - val_accuracy: 0.6748\n",
            "Epoch 21/100\n",
            "50/50 [==============================] - 0s 3ms/step - loss: 0.5440 - accuracy: 0.7291 - val_loss: 0.5761 - val_accuracy: 0.6748\n",
            "Epoch 22/100\n",
            "50/50 [==============================] - 0s 4ms/step - loss: 0.5387 - accuracy: 0.7312 - val_loss: 0.5706 - val_accuracy: 0.6829\n",
            "Epoch 23/100\n",
            "50/50 [==============================] - 0s 3ms/step - loss: 0.5337 - accuracy: 0.7352 - val_loss: 0.5649 - val_accuracy: 0.6748\n",
            "Epoch 24/100\n",
            "50/50 [==============================] - 0s 3ms/step - loss: 0.5289 - accuracy: 0.7413 - val_loss: 0.5594 - val_accuracy: 0.6992\n",
            "Epoch 25/100\n",
            "50/50 [==============================] - 0s 3ms/step - loss: 0.5246 - accuracy: 0.7495 - val_loss: 0.5549 - val_accuracy: 0.6911\n",
            "Epoch 26/100\n",
            "50/50 [==============================] - 0s 3ms/step - loss: 0.5208 - accuracy: 0.7536 - val_loss: 0.5506 - val_accuracy: 0.6911\n",
            "Epoch 27/100\n",
            "50/50 [==============================] - 0s 2ms/step - loss: 0.5172 - accuracy: 0.7576 - val_loss: 0.5463 - val_accuracy: 0.6911\n",
            "Epoch 28/100\n",
            "50/50 [==============================] - 0s 3ms/step - loss: 0.5137 - accuracy: 0.7617 - val_loss: 0.5426 - val_accuracy: 0.6992\n",
            "Epoch 29/100\n",
            "50/50 [==============================] - 0s 4ms/step - loss: 0.5106 - accuracy: 0.7617 - val_loss: 0.5391 - val_accuracy: 0.6992\n",
            "Epoch 30/100\n",
            "50/50 [==============================] - 0s 3ms/step - loss: 0.5078 - accuracy: 0.7617 - val_loss: 0.5357 - val_accuracy: 0.6992\n",
            "Epoch 31/100\n",
            "50/50 [==============================] - 0s 3ms/step - loss: 0.5048 - accuracy: 0.7597 - val_loss: 0.5322 - val_accuracy: 0.7154\n",
            "Epoch 32/100\n",
            "50/50 [==============================] - 0s 3ms/step - loss: 0.5023 - accuracy: 0.7658 - val_loss: 0.5293 - val_accuracy: 0.7236\n",
            "Epoch 33/100\n",
            "50/50 [==============================] - 0s 3ms/step - loss: 0.5001 - accuracy: 0.7678 - val_loss: 0.5268 - val_accuracy: 0.7236\n",
            "Epoch 34/100\n",
            "50/50 [==============================] - 0s 3ms/step - loss: 0.4977 - accuracy: 0.7678 - val_loss: 0.5243 - val_accuracy: 0.7154\n",
            "Epoch 35/100\n",
            "50/50 [==============================] - 0s 3ms/step - loss: 0.4955 - accuracy: 0.7637 - val_loss: 0.5217 - val_accuracy: 0.7154\n",
            "Epoch 36/100\n",
            "50/50 [==============================] - 0s 3ms/step - loss: 0.4936 - accuracy: 0.7637 - val_loss: 0.5198 - val_accuracy: 0.7154\n",
            "Epoch 37/100\n",
            "50/50 [==============================] - 0s 3ms/step - loss: 0.4917 - accuracy: 0.7617 - val_loss: 0.5176 - val_accuracy: 0.7317\n",
            "Epoch 38/100\n",
            "50/50 [==============================] - 0s 3ms/step - loss: 0.4898 - accuracy: 0.7658 - val_loss: 0.5145 - val_accuracy: 0.7317\n",
            "Epoch 39/100\n",
            "50/50 [==============================] - 0s 3ms/step - loss: 0.4883 - accuracy: 0.7617 - val_loss: 0.5129 - val_accuracy: 0.7317\n",
            "Epoch 40/100\n",
            "50/50 [==============================] - 0s 3ms/step - loss: 0.4867 - accuracy: 0.7699 - val_loss: 0.5113 - val_accuracy: 0.7317\n",
            "Epoch 41/100\n",
            "50/50 [==============================] - 0s 3ms/step - loss: 0.4853 - accuracy: 0.7658 - val_loss: 0.5098 - val_accuracy: 0.7317\n",
            "Epoch 42/100\n",
            "50/50 [==============================] - 0s 3ms/step - loss: 0.4840 - accuracy: 0.7658 - val_loss: 0.5083 - val_accuracy: 0.7398\n",
            "Epoch 43/100\n",
            "50/50 [==============================] - 0s 3ms/step - loss: 0.4827 - accuracy: 0.7658 - val_loss: 0.5071 - val_accuracy: 0.7398\n",
            "Epoch 44/100\n",
            "50/50 [==============================] - 0s 3ms/step - loss: 0.4820 - accuracy: 0.7658 - val_loss: 0.5051 - val_accuracy: 0.7398\n",
            "Epoch 45/100\n",
            "50/50 [==============================] - 0s 3ms/step - loss: 0.4808 - accuracy: 0.7658 - val_loss: 0.5040 - val_accuracy: 0.7398\n",
            "Epoch 46/100\n",
            "50/50 [==============================] - 0s 3ms/step - loss: 0.4798 - accuracy: 0.7658 - val_loss: 0.5034 - val_accuracy: 0.7398\n",
            "Epoch 47/100\n",
            "50/50 [==============================] - 0s 3ms/step - loss: 0.4789 - accuracy: 0.7617 - val_loss: 0.5020 - val_accuracy: 0.7398\n",
            "Epoch 48/100\n",
            "50/50 [==============================] - 0s 3ms/step - loss: 0.4780 - accuracy: 0.7597 - val_loss: 0.5012 - val_accuracy: 0.7480\n",
            "Epoch 49/100\n",
            "50/50 [==============================] - 0s 3ms/step - loss: 0.4770 - accuracy: 0.7576 - val_loss: 0.5001 - val_accuracy: 0.7561\n",
            "Epoch 50/100\n",
            "50/50 [==============================] - 0s 3ms/step - loss: 0.4763 - accuracy: 0.7556 - val_loss: 0.4995 - val_accuracy: 0.7561\n",
            "Epoch 51/100\n",
            "50/50 [==============================] - 0s 2ms/step - loss: 0.4756 - accuracy: 0.7576 - val_loss: 0.4991 - val_accuracy: 0.7642\n",
            "Epoch 52/100\n",
            "50/50 [==============================] - 0s 3ms/step - loss: 0.4750 - accuracy: 0.7556 - val_loss: 0.4983 - val_accuracy: 0.7724\n",
            "Epoch 53/100\n",
            "50/50 [==============================] - 0s 3ms/step - loss: 0.4742 - accuracy: 0.7536 - val_loss: 0.4979 - val_accuracy: 0.7724\n",
            "Epoch 54/100\n",
            "50/50 [==============================] - 0s 3ms/step - loss: 0.4737 - accuracy: 0.7576 - val_loss: 0.4971 - val_accuracy: 0.7724\n",
            "Epoch 55/100\n",
            "50/50 [==============================] - 0s 3ms/step - loss: 0.4730 - accuracy: 0.7556 - val_loss: 0.4965 - val_accuracy: 0.7805\n",
            "Epoch 56/100\n",
            "50/50 [==============================] - 0s 3ms/step - loss: 0.4726 - accuracy: 0.7576 - val_loss: 0.4959 - val_accuracy: 0.7724\n",
            "Epoch 57/100\n",
            "50/50 [==============================] - 0s 3ms/step - loss: 0.4719 - accuracy: 0.7576 - val_loss: 0.4954 - val_accuracy: 0.7724\n",
            "Epoch 58/100\n",
            "50/50 [==============================] - 0s 3ms/step - loss: 0.4714 - accuracy: 0.7556 - val_loss: 0.4948 - val_accuracy: 0.7724\n",
            "Epoch 59/100\n",
            "50/50 [==============================] - 0s 4ms/step - loss: 0.4710 - accuracy: 0.7597 - val_loss: 0.4947 - val_accuracy: 0.7724\n",
            "Epoch 60/100\n",
            "50/50 [==============================] - 0s 3ms/step - loss: 0.4705 - accuracy: 0.7597 - val_loss: 0.4942 - val_accuracy: 0.7724\n",
            "Epoch 61/100\n",
            "50/50 [==============================] - 0s 3ms/step - loss: 0.4704 - accuracy: 0.7556 - val_loss: 0.4934 - val_accuracy: 0.7724\n",
            "Epoch 62/100\n",
            "50/50 [==============================] - 0s 3ms/step - loss: 0.4696 - accuracy: 0.7597 - val_loss: 0.4939 - val_accuracy: 0.7724\n",
            "Epoch 63/100\n",
            "50/50 [==============================] - 0s 3ms/step - loss: 0.4694 - accuracy: 0.7617 - val_loss: 0.4931 - val_accuracy: 0.7724\n",
            "Epoch 64/100\n",
            "50/50 [==============================] - 0s 3ms/step - loss: 0.4691 - accuracy: 0.7576 - val_loss: 0.4926 - val_accuracy: 0.7724\n",
            "Epoch 65/100\n",
            "50/50 [==============================] - 0s 3ms/step - loss: 0.4691 - accuracy: 0.7576 - val_loss: 0.4920 - val_accuracy: 0.7724\n",
            "Epoch 66/100\n",
            "50/50 [==============================] - 0s 3ms/step - loss: 0.4689 - accuracy: 0.7597 - val_loss: 0.4923 - val_accuracy: 0.7724\n",
            "Epoch 67/100\n",
            "50/50 [==============================] - 0s 2ms/step - loss: 0.4684 - accuracy: 0.7637 - val_loss: 0.4921 - val_accuracy: 0.7724\n",
            "Epoch 68/100\n",
            "50/50 [==============================] - 0s 3ms/step - loss: 0.4681 - accuracy: 0.7617 - val_loss: 0.4918 - val_accuracy: 0.7724\n",
            "Epoch 69/100\n",
            "50/50 [==============================] - 0s 3ms/step - loss: 0.4678 - accuracy: 0.7617 - val_loss: 0.4917 - val_accuracy: 0.7724\n",
            "Epoch 70/100\n",
            "50/50 [==============================] - 0s 5ms/step - loss: 0.4677 - accuracy: 0.7617 - val_loss: 0.4916 - val_accuracy: 0.7724\n",
            "Epoch 71/100\n",
            "50/50 [==============================] - 0s 5ms/step - loss: 0.4673 - accuracy: 0.7617 - val_loss: 0.4915 - val_accuracy: 0.7724\n",
            "Epoch 72/100\n",
            "50/50 [==============================] - 0s 3ms/step - loss: 0.4672 - accuracy: 0.7617 - val_loss: 0.4911 - val_accuracy: 0.7724\n",
            "Epoch 73/100\n",
            "50/50 [==============================] - 0s 3ms/step - loss: 0.4668 - accuracy: 0.7637 - val_loss: 0.4911 - val_accuracy: 0.7724\n",
            "Epoch 74/100\n",
            "50/50 [==============================] - 0s 3ms/step - loss: 0.4668 - accuracy: 0.7617 - val_loss: 0.4910 - val_accuracy: 0.7724\n",
            "Epoch 75/100\n",
            "50/50 [==============================] - 0s 3ms/step - loss: 0.4666 - accuracy: 0.7617 - val_loss: 0.4906 - val_accuracy: 0.7724\n",
            "Epoch 76/100\n",
            "50/50 [==============================] - 0s 3ms/step - loss: 0.4663 - accuracy: 0.7617 - val_loss: 0.4910 - val_accuracy: 0.7724\n",
            "Epoch 77/100\n",
            "50/50 [==============================] - 0s 4ms/step - loss: 0.4662 - accuracy: 0.7637 - val_loss: 0.4907 - val_accuracy: 0.7724\n",
            "Epoch 78/100\n",
            "50/50 [==============================] - 0s 8ms/step - loss: 0.4662 - accuracy: 0.7658 - val_loss: 0.4908 - val_accuracy: 0.7724\n",
            "Epoch 79/100\n",
            "50/50 [==============================] - 1s 20ms/step - loss: 0.4661 - accuracy: 0.7658 - val_loss: 0.4905 - val_accuracy: 0.7724\n",
            "Epoch 80/100\n",
            "50/50 [==============================] - 0s 5ms/step - loss: 0.4660 - accuracy: 0.7637 - val_loss: 0.4900 - val_accuracy: 0.7724\n",
            "Epoch 81/100\n",
            "50/50 [==============================] - 0s 5ms/step - loss: 0.4657 - accuracy: 0.7637 - val_loss: 0.4903 - val_accuracy: 0.7724\n",
            "Epoch 82/100\n",
            "50/50 [==============================] - 0s 5ms/step - loss: 0.4657 - accuracy: 0.7658 - val_loss: 0.4905 - val_accuracy: 0.7724\n",
            "Epoch 83/100\n",
            "50/50 [==============================] - 0s 4ms/step - loss: 0.4654 - accuracy: 0.7658 - val_loss: 0.4904 - val_accuracy: 0.7724\n",
            "Epoch 84/100\n",
            "50/50 [==============================] - 0s 5ms/step - loss: 0.4654 - accuracy: 0.7658 - val_loss: 0.4902 - val_accuracy: 0.7724\n",
            "Epoch 85/100\n",
            "50/50 [==============================] - 0s 3ms/step - loss: 0.4652 - accuracy: 0.7658 - val_loss: 0.4904 - val_accuracy: 0.7724\n",
            "Epoch 86/100\n",
            "50/50 [==============================] - 0s 3ms/step - loss: 0.4652 - accuracy: 0.7678 - val_loss: 0.4904 - val_accuracy: 0.7724\n",
            "Epoch 87/100\n",
            "50/50 [==============================] - 0s 4ms/step - loss: 0.4652 - accuracy: 0.7678 - val_loss: 0.4905 - val_accuracy: 0.7724\n",
            "Epoch 88/100\n",
            "50/50 [==============================] - 0s 3ms/step - loss: 0.4651 - accuracy: 0.7678 - val_loss: 0.4908 - val_accuracy: 0.7724\n",
            "Epoch 89/100\n",
            "50/50 [==============================] - 0s 3ms/step - loss: 0.4650 - accuracy: 0.7699 - val_loss: 0.4905 - val_accuracy: 0.7724\n",
            "Epoch 90/100\n",
            "50/50 [==============================] - 0s 3ms/step - loss: 0.4649 - accuracy: 0.7699 - val_loss: 0.4902 - val_accuracy: 0.7724\n",
            "Epoch 91/100\n",
            "50/50 [==============================] - 0s 3ms/step - loss: 0.4648 - accuracy: 0.7699 - val_loss: 0.4904 - val_accuracy: 0.7724\n",
            "Epoch 92/100\n",
            "50/50 [==============================] - 0s 3ms/step - loss: 0.4648 - accuracy: 0.7699 - val_loss: 0.4902 - val_accuracy: 0.7805\n",
            "Epoch 93/100\n",
            "50/50 [==============================] - 0s 4ms/step - loss: 0.4647 - accuracy: 0.7699 - val_loss: 0.4905 - val_accuracy: 0.7805\n",
            "Epoch 94/100\n",
            "50/50 [==============================] - 0s 3ms/step - loss: 0.4647 - accuracy: 0.7699 - val_loss: 0.4905 - val_accuracy: 0.7724\n",
            "Epoch 95/100\n",
            "50/50 [==============================] - 0s 2ms/step - loss: 0.4644 - accuracy: 0.7699 - val_loss: 0.4902 - val_accuracy: 0.7724\n",
            "Epoch 96/100\n",
            "50/50 [==============================] - 0s 3ms/step - loss: 0.4645 - accuracy: 0.7699 - val_loss: 0.4904 - val_accuracy: 0.7724\n",
            "Epoch 97/100\n",
            "50/50 [==============================] - 0s 3ms/step - loss: 0.4645 - accuracy: 0.7699 - val_loss: 0.4904 - val_accuracy: 0.7724\n",
            "Epoch 98/100\n",
            "50/50 [==============================] - 0s 3ms/step - loss: 0.4644 - accuracy: 0.7699 - val_loss: 0.4905 - val_accuracy: 0.7724\n",
            "Epoch 99/100\n",
            "50/50 [==============================] - 0s 3ms/step - loss: 0.4644 - accuracy: 0.7699 - val_loss: 0.4905 - val_accuracy: 0.7724\n",
            "Epoch 100/100\n",
            "50/50 [==============================] - 0s 3ms/step - loss: 0.4644 - accuracy: 0.7699 - val_loss: 0.4906 - val_accuracy: 0.7724\n"
          ]
        }
      ],
      "source": [
        "# Train the model\n",
        "history = model.fit(X_train, y_train, epochs=100, batch_size=10, validation_split=0.2, verbose=1)\n"
      ]
    },
    {
      "cell_type": "code",
      "execution_count": 9,
      "metadata": {
        "colab": {
          "base_uri": "https://localhost:8080/"
        },
        "id": "_O6dA7rlQjZ2",
        "outputId": "326dd9ab-7ad2-4663-ada5-d4a1c4e2aa0a"
      },
      "outputs": [
        {
          "name": "stdout",
          "output_type": "stream",
          "text": [
            "Test Loss: 0.5209, Test Accuracy: 0.7662\n"
          ]
        }
      ],
      "source": [
        "# Evaluate the model on the test set\n",
        "loss, accuracy = model.evaluate(X_test, y_test, verbose=0)\n",
        "print(f'Test Loss: {loss:.4f}, Test Accuracy: {accuracy:.4f}')\n"
      ]
    },
    {
      "cell_type": "code",
      "execution_count": null,
      "metadata": {
        "id": "-rONz_xbQm2D"
      },
      "outputs": [],
      "source": []
    }
  ],
  "metadata": {
    "colab": {
      "provenance": []
    },
    "kernelspec": {
      "display_name": "Python 3",
      "name": "python3"
    },
    "language_info": {
      "name": "python",
      "version": "3.11.8"
    }
  },
  "nbformat": 4,
  "nbformat_minor": 0
}
