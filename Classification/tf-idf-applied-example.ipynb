{
 "cells": [
  {
   "cell_type": "code",
   "execution_count": 1,
   "metadata": {},
   "outputs": [],
   "source": [
    "from sklearn.metrics.pairwise import cosine_similarity\n",
    "from sklearn.feature_extraction.text import TfidfVectorizer\n",
    "import pandas as pd"
   ]
  },
  {
   "cell_type": "code",
   "execution_count": 10,
   "metadata": {},
   "outputs": [],
   "source": [
    "df = pd.read_csv(\"datasets/movies_metadata.csv\",\n",
    "                 low_memory=False)\n",
    "df = df.head(100)\n"
   ]
  },
  {
   "cell_type": "code",
   "execution_count": 11,
   "metadata": {},
   "outputs": [
    {
     "data": {
      "text/html": [
       "<div>\n",
       "<style scoped>\n",
       "    .dataframe tbody tr th:only-of-type {\n",
       "        vertical-align: middle;\n",
       "    }\n",
       "\n",
       "    .dataframe tbody tr th {\n",
       "        vertical-align: top;\n",
       "    }\n",
       "\n",
       "    .dataframe thead th {\n",
       "        text-align: right;\n",
       "    }\n",
       "</style>\n",
       "<table border=\"1\" class=\"dataframe\">\n",
       "  <thead>\n",
       "    <tr style=\"text-align: right;\">\n",
       "      <th></th>\n",
       "      <th>id</th>\n",
       "      <th>title</th>\n",
       "      <th>overview</th>\n",
       "    </tr>\n",
       "  </thead>\n",
       "  <tbody>\n",
       "    <tr>\n",
       "      <th>0</th>\n",
       "      <td>862</td>\n",
       "      <td>Toy Story</td>\n",
       "      <td>Led by Woody, Andy's toys live happily in his ...</td>\n",
       "    </tr>\n",
       "  </tbody>\n",
       "</table>\n",
       "</div>"
      ],
      "text/plain": [
       "    id      title                                           overview\n",
       "0  862  Toy Story  Led by Woody, Andy's toys live happily in his ..."
      ]
     },
     "execution_count": 11,
     "metadata": {},
     "output_type": "execute_result"
    }
   ],
   "source": [
    "df = df[['id','title','overview']]\n",
    "df.head(1)"
   ]
  },
  {
   "cell_type": "code",
   "execution_count": 12,
   "metadata": {},
   "outputs": [],
   "source": [
    "tfidf = TfidfVectorizer(stop_words='english')\n",
    "df['overview'] = df['overview'].fillna('')"
   ]
  },
  {
   "cell_type": "code",
   "execution_count": 13,
   "metadata": {},
   "outputs": [
    {
     "data": {
      "text/plain": [
       "(100, 1895)"
      ]
     },
     "execution_count": 13,
     "metadata": {},
     "output_type": "execute_result"
    }
   ],
   "source": [
    "tfidf_matrix = tfidf.fit_transform(df['overview'])\n",
    "tfidf_matrix.shape"
   ]
  },
  {
   "cell_type": "code",
   "execution_count": 14,
   "metadata": {},
   "outputs": [
    {
     "data": {
      "text/plain": [
       "array([0.01598601, 1.        , 0.05095125, 0.        , 0.        ,\n",
       "       0.06184943, 0.        , 0.        , 0.12908223, 0.        ,\n",
       "       0.01315689, 0.        , 0.        , 0.01316551, 0.        ,\n",
       "       0.        , 0.        , 0.02874849, 0.        , 0.        ,\n",
       "       0.        , 0.        , 0.0100649 , 0.        , 0.        ,\n",
       "       0.0367933 , 0.02644778, 0.01683479, 0.        , 0.        ,\n",
       "       0.        , 0.03348817, 0.        , 0.00931831, 0.00822231,\n",
       "       0.        , 0.        , 0.        , 0.        , 0.        ,\n",
       "       0.        , 0.        , 0.        , 0.0381127 , 0.        ,\n",
       "       0.        , 0.0210013 , 0.01165518, 0.        , 0.01742351,\n",
       "       0.0087352 , 0.        , 0.03310006, 0.        , 0.        ,\n",
       "       0.        , 0.        , 0.        , 0.        , 0.        ,\n",
       "       0.        , 0.        , 0.02243943, 0.        , 0.02144823,\n",
       "       0.01150284, 0.        , 0.        , 0.        , 0.        ,\n",
       "       0.        , 0.        , 0.0143346 , 0.        , 0.        ,\n",
       "       0.        , 0.        , 0.01605577, 0.        , 0.        ,\n",
       "       0.        , 0.00920069, 0.00826075, 0.        , 0.        ,\n",
       "       0.03758807, 0.        , 0.        , 0.        , 0.01856166,\n",
       "       0.        , 0.        , 0.        , 0.01842268, 0.01881385,\n",
       "       0.        , 0.07128578, 0.01466812, 0.        , 0.        ])"
      ]
     },
     "execution_count": 14,
     "metadata": {},
     "output_type": "execute_result"
    }
   ],
   "source": [
    "cosine_sim = cosine_similarity(tfidf_matrix, tfidf_matrix)\n",
    "cosine_sim[1]\n",
    "\n"
   ]
  },
  {
   "cell_type": "code",
   "execution_count": 15,
   "metadata": {},
   "outputs": [],
   "source": [
    "df = df[~df['title'].isna()]\n"
   ]
  },
  {
   "cell_type": "code",
   "execution_count": 16,
   "metadata": {},
   "outputs": [
    {
     "data": {
      "text/plain": [
       "title\n",
       "Toy Story                         0\n",
       "Jumanji                           1\n",
       "Grumpier Old Men                  2\n",
       "Waiting to Exhale                 3\n",
       "Father of the Bride Part II       4\n",
       "                                 ..\n",
       "La Haine                         95\n",
       "Shopping                         96\n",
       "Heidi Fleiss: Hollywood Madam    97\n",
       "City Hall                        98\n",
       "Bottle Rocket                    99\n",
       "Length: 100, dtype: int64"
      ]
     },
     "execution_count": 16,
     "metadata": {},
     "output_type": "execute_result"
    }
   ],
   "source": [
    "indices = pd.Series(df.index, index=df['title'])\n",
    "indices = indices[~indices.index.duplicated(keep='last')]\n",
    "indices"
   ]
  },
  {
   "cell_type": "code",
   "execution_count": 17,
   "metadata": {},
   "outputs": [
    {
     "data": {
      "text/plain": [
       "0"
      ]
     },
     "execution_count": 17,
     "metadata": {},
     "output_type": "execute_result"
    }
   ],
   "source": [
    "target_movie_index = indices['Toy Story']\n",
    "target_movie_index"
   ]
  },
  {
   "cell_type": "code",
   "execution_count": 18,
   "metadata": {},
   "outputs": [
    {
     "data": {
      "text/plain": [
       "array([1.        , 0.01598601, 0.        , 0.        , 0.        ,\n",
       "       0.        , 0.        , 0.        , 0.        , 0.        ,\n",
       "       0.        , 0.        , 0.        , 0.        , 0.        ,\n",
       "       0.        , 0.        , 0.05458107, 0.        , 0.        ,\n",
       "       0.01154289, 0.        , 0.        , 0.        , 0.        ,\n",
       "       0.        , 0.        , 0.        , 0.        , 0.        ,\n",
       "       0.        , 0.        , 0.        , 0.02818954, 0.        ,\n",
       "       0.        , 0.        , 0.        , 0.        , 0.        ,\n",
       "       0.        , 0.        , 0.01001783, 0.        , 0.        ,\n",
       "       0.01153539, 0.        , 0.        , 0.        , 0.01564414,\n",
       "       0.01719673, 0.0123872 , 0.        , 0.        , 0.02021326,\n",
       "       0.        , 0.02899379, 0.02263477, 0.        , 0.03478363,\n",
       "       0.        , 0.        , 0.01329742, 0.        , 0.01449816,\n",
       "       0.        , 0.        , 0.        , 0.        , 0.        ,\n",
       "       0.        , 0.        , 0.        , 0.        , 0.        ,\n",
       "       0.        , 0.01733462, 0.        , 0.        , 0.        ,\n",
       "       0.        , 0.01587915, 0.02146653, 0.03264754, 0.        ,\n",
       "       0.        , 0.        , 0.        , 0.        , 0.01666605,\n",
       "       0.        , 0.01719409, 0.        , 0.        , 0.        ,\n",
       "       0.        , 0.        , 0.        , 0.        , 0.        ])"
      ]
     },
     "execution_count": 18,
     "metadata": {},
     "output_type": "execute_result"
    }
   ],
   "source": [
    "cosine_sim[target_movie_index]\n"
   ]
  },
  {
   "cell_type": "code",
   "execution_count": 19,
   "metadata": {},
   "outputs": [
    {
     "data": {
      "text/html": [
       "<div>\n",
       "<style scoped>\n",
       "    .dataframe tbody tr th:only-of-type {\n",
       "        vertical-align: middle;\n",
       "    }\n",
       "\n",
       "    .dataframe tbody tr th {\n",
       "        vertical-align: top;\n",
       "    }\n",
       "\n",
       "    .dataframe thead th {\n",
       "        text-align: right;\n",
       "    }\n",
       "</style>\n",
       "<table border=\"1\" class=\"dataframe\">\n",
       "  <thead>\n",
       "    <tr style=\"text-align: right;\">\n",
       "      <th></th>\n",
       "      <th>score</th>\n",
       "    </tr>\n",
       "  </thead>\n",
       "  <tbody>\n",
       "    <tr>\n",
       "      <th>0</th>\n",
       "      <td>1.000000</td>\n",
       "    </tr>\n",
       "    <tr>\n",
       "      <th>1</th>\n",
       "      <td>0.015986</td>\n",
       "    </tr>\n",
       "    <tr>\n",
       "      <th>2</th>\n",
       "      <td>0.000000</td>\n",
       "    </tr>\n",
       "    <tr>\n",
       "      <th>3</th>\n",
       "      <td>0.000000</td>\n",
       "    </tr>\n",
       "    <tr>\n",
       "      <th>4</th>\n",
       "      <td>0.000000</td>\n",
       "    </tr>\n",
       "    <tr>\n",
       "      <th>...</th>\n",
       "      <td>...</td>\n",
       "    </tr>\n",
       "    <tr>\n",
       "      <th>95</th>\n",
       "      <td>0.000000</td>\n",
       "    </tr>\n",
       "    <tr>\n",
       "      <th>96</th>\n",
       "      <td>0.000000</td>\n",
       "    </tr>\n",
       "    <tr>\n",
       "      <th>97</th>\n",
       "      <td>0.000000</td>\n",
       "    </tr>\n",
       "    <tr>\n",
       "      <th>98</th>\n",
       "      <td>0.000000</td>\n",
       "    </tr>\n",
       "    <tr>\n",
       "      <th>99</th>\n",
       "      <td>0.000000</td>\n",
       "    </tr>\n",
       "  </tbody>\n",
       "</table>\n",
       "<p>100 rows × 1 columns</p>\n",
       "</div>"
      ],
      "text/plain": [
       "       score\n",
       "0   1.000000\n",
       "1   0.015986\n",
       "2   0.000000\n",
       "3   0.000000\n",
       "4   0.000000\n",
       "..       ...\n",
       "95  0.000000\n",
       "96  0.000000\n",
       "97  0.000000\n",
       "98  0.000000\n",
       "99  0.000000\n",
       "\n",
       "[100 rows x 1 columns]"
      ]
     },
     "execution_count": 19,
     "metadata": {},
     "output_type": "execute_result"
    }
   ],
   "source": [
    "similarity_scores = pd.DataFrame(cosine_sim[target_movie_index], columns=[\"score\"])\n",
    "similarity_scores"
   ]
  },
  {
   "cell_type": "code",
   "execution_count": 20,
   "metadata": {},
   "outputs": [],
   "source": [
    "movie_indices = similarity_scores.sort_values(\"score\", ascending=False)[0:11].index"
   ]
  },
  {
   "cell_type": "code",
   "execution_count": 21,
   "metadata": {},
   "outputs": [
    {
     "data": {
      "text/plain": [
       "0                                    Toy Story\n",
       "17                                  Four Rooms\n",
       "59                  The Indian in the Cupboard\n",
       "83                 Last Summer in the Hamptons\n",
       "56                       Home for the Holidays\n",
       "33                                        Babe\n",
       "57                                 The Postman\n",
       "82    Once Upon a Time... When We Were Colored\n",
       "54                                     Georgia\n",
       "76                                   Nico Icon\n",
       "50                              Guardian Angel\n",
       "Name: title, dtype: object"
      ]
     },
     "execution_count": 21,
     "metadata": {},
     "output_type": "execute_result"
    }
   ],
   "source": [
    "df['title'].iloc[movie_indices]\n"
   ]
  },
  {
   "cell_type": "code",
   "execution_count": 22,
   "metadata": {},
   "outputs": [
    {
     "data": {
      "text/plain": [
       "Series([], dtype: int64)"
      ]
     },
     "execution_count": 22,
     "metadata": {},
     "output_type": "execute_result"
    }
   ],
   "source": [
    "def get_films_by_name(movie_name, movie_indices):\n",
    "    return movie_indices[movie_indices.index.str.contains(movie_name, na=False)]\n",
    "get_films_by_name('Lord', indices)"
   ]
  },
  {
   "cell_type": "code",
   "execution_count": 24,
   "metadata": {},
   "outputs": [
    {
     "data": {
      "text/plain": [
       "77                         The Crossing Guard\n",
       "54                                    Georgia\n",
       "45              How To Make An American Quilt\n",
       "71                      Kicking and Screaming\n",
       "22                                  Assassins\n",
       "57                                The Postman\n",
       "94                         A Midwinter's Tale\n",
       "59                 The Indian in the Cupboard\n",
       "79                          The White Balloon\n",
       "2                            Grumpier Old Men\n",
       "80    Things to Do in Denver When You're Dead\n",
       "Name: title, dtype: object"
      ]
     },
     "execution_count": 24,
     "metadata": {},
     "output_type": "execute_result"
    }
   ],
   "source": [
    "def get_recommended_movies(target_movie_index, movie_similarities,movies_df):\n",
    "    similarity_scores = pd.DataFrame(movie_similarities[target_movie_index], columns=[\"score\"]) \n",
    "    movie_indices = similarity_scores.sort_values(\"score\", ascending=False)[0:11].index \n",
    "    return df['title'].iloc[movie_indices]\n",
    "get_recommended_movies(77,cosine_sim,df) \n",
    "# 2007 index for \"The Lord of the Rings\""
   ]
  },
  {
   "cell_type": "code",
   "execution_count": null,
   "metadata": {},
   "outputs": [],
   "source": []
  }
 ],
 "metadata": {
  "kernelspec": {
   "display_name": "Python 3",
   "language": "python",
   "name": "python3"
  },
  "language_info": {
   "codemirror_mode": {
    "name": "ipython",
    "version": 3
   },
   "file_extension": ".py",
   "mimetype": "text/x-python",
   "name": "python",
   "nbconvert_exporter": "python",
   "pygments_lexer": "ipython3",
   "version": "3.11.9"
  }
 },
 "nbformat": 4,
 "nbformat_minor": 2
}
