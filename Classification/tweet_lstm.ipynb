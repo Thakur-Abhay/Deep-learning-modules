{
 "cells": [
  {
   "cell_type": "code",
   "execution_count": 2,
   "metadata": {},
   "outputs": [],
   "source": [
    "import pandas as pd"
   ]
  },
  {
   "cell_type": "code",
   "execution_count": 4,
   "metadata": {},
   "outputs": [
    {
     "data": {
      "text/html": [
       "<div>\n",
       "<style scoped>\n",
       "    .dataframe tbody tr th:only-of-type {\n",
       "        vertical-align: middle;\n",
       "    }\n",
       "\n",
       "    .dataframe tbody tr th {\n",
       "        vertical-align: top;\n",
       "    }\n",
       "\n",
       "    .dataframe thead th {\n",
       "        text-align: right;\n",
       "    }\n",
       "</style>\n",
       "<table border=\"1\" class=\"dataframe\">\n",
       "  <thead>\n",
       "    <tr style=\"text-align: right;\">\n",
       "      <th></th>\n",
       "      <th>Unnamed: 0</th>\n",
       "      <th>target</th>\n",
       "      <th>ids</th>\n",
       "      <th>date</th>\n",
       "      <th>flag</th>\n",
       "      <th>user</th>\n",
       "      <th>text</th>\n",
       "    </tr>\n",
       "  </thead>\n",
       "  <tbody>\n",
       "    <tr>\n",
       "      <th>0</th>\n",
       "      <td>734779</td>\n",
       "      <td>0</td>\n",
       "      <td>2264631528</td>\n",
       "      <td>Sun Jun 21 04:28:40 PDT 2009</td>\n",
       "      <td>NO_QUERY</td>\n",
       "      <td>andychong9</td>\n",
       "      <td>dad having fever again.. not looking too good</td>\n",
       "    </tr>\n",
       "    <tr>\n",
       "      <th>1</th>\n",
       "      <td>632647</td>\n",
       "      <td>0</td>\n",
       "      <td>2232741622</td>\n",
       "      <td>Thu Jun 18 20:19:48 PDT 2009</td>\n",
       "      <td>NO_QUERY</td>\n",
       "      <td>SLeepdepD</td>\n",
       "      <td>@judahgabriel i wish i had that much to say</td>\n",
       "    </tr>\n",
       "    <tr>\n",
       "      <th>2</th>\n",
       "      <td>337706</td>\n",
       "      <td>0</td>\n",
       "      <td>2014269923</td>\n",
       "      <td>Wed Jun 03 00:59:10 PDT 2009</td>\n",
       "      <td>NO_QUERY</td>\n",
       "      <td>BlackCat_Saya</td>\n",
       "      <td>@rohan_01 you know..it's really sad that u kno...</td>\n",
       "    </tr>\n",
       "    <tr>\n",
       "      <th>3</th>\n",
       "      <td>465228</td>\n",
       "      <td>0</td>\n",
       "      <td>2175302784</td>\n",
       "      <td>Mon Jun 15 00:36:56 PDT 2009</td>\n",
       "      <td>NO_QUERY</td>\n",
       "      <td>sawarahh</td>\n",
       "      <td>@cathicks i don't get it.</td>\n",
       "    </tr>\n",
       "    <tr>\n",
       "      <th>4</th>\n",
       "      <td>1280419</td>\n",
       "      <td>4</td>\n",
       "      <td>2001635016</td>\n",
       "      <td>Tue Jun 02 01:32:44 PDT 2009</td>\n",
       "      <td>NO_QUERY</td>\n",
       "      <td>essieruth</td>\n",
       "      <td>@dougsky i will have a look when i get home!</td>\n",
       "    </tr>\n",
       "    <tr>\n",
       "      <th>...</th>\n",
       "      <td>...</td>\n",
       "      <td>...</td>\n",
       "      <td>...</td>\n",
       "      <td>...</td>\n",
       "      <td>...</td>\n",
       "      <td>...</td>\n",
       "      <td>...</td>\n",
       "    </tr>\n",
       "    <tr>\n",
       "      <th>95</th>\n",
       "      <td>1338972</td>\n",
       "      <td>4</td>\n",
       "      <td>2018419297</td>\n",
       "      <td>Wed Jun 03 09:56:19 PDT 2009</td>\n",
       "      <td>NO_QUERY</td>\n",
       "      <td>kreativlink</td>\n",
       "      <td>@plainbananas italian ice cream? ohhhh.... wan...</td>\n",
       "    </tr>\n",
       "    <tr>\n",
       "      <th>96</th>\n",
       "      <td>1532048</td>\n",
       "      <td>4</td>\n",
       "      <td>2178167599</td>\n",
       "      <td>Mon Jun 15 07:17:46 PDT 2009</td>\n",
       "      <td>NO_QUERY</td>\n",
       "      <td>alyssasilcox</td>\n",
       "      <td>@babiibecca yeah idk im supposed to go back to...</td>\n",
       "    </tr>\n",
       "    <tr>\n",
       "      <th>97</th>\n",
       "      <td>1020485</td>\n",
       "      <td>4</td>\n",
       "      <td>1882384445</td>\n",
       "      <td>Fri May 22 06:46:30 PDT 2009</td>\n",
       "      <td>NO_QUERY</td>\n",
       "      <td>paulbeebe</td>\n",
       "      <td>#followfriday @ryanhurst @disklabs - both comp...</td>\n",
       "    </tr>\n",
       "    <tr>\n",
       "      <th>98</th>\n",
       "      <td>820937</td>\n",
       "      <td>4</td>\n",
       "      <td>1553893253</td>\n",
       "      <td>Sat Apr 18 15:30:02 PDT 2009</td>\n",
       "      <td>NO_QUERY</td>\n",
       "      <td>ciberesfera</td>\n",
       "      <td>@undertheground</td>\n",
       "    </tr>\n",
       "    <tr>\n",
       "      <th>99</th>\n",
       "      <td>588988</td>\n",
       "      <td>0</td>\n",
       "      <td>2216838047</td>\n",
       "      <td>Wed Jun 17 20:02:12 PDT 2009</td>\n",
       "      <td>NO_QUERY</td>\n",
       "      <td>Balasi</td>\n",
       "      <td>i am craving for japanese food</td>\n",
       "    </tr>\n",
       "  </tbody>\n",
       "</table>\n",
       "<p>100 rows × 7 columns</p>\n",
       "</div>"
      ],
      "text/plain": [
       "    Unnamed: 0  target         ids                          date      flag  \\\n",
       "0       734779       0  2264631528  Sun Jun 21 04:28:40 PDT 2009  NO_QUERY   \n",
       "1       632647       0  2232741622  Thu Jun 18 20:19:48 PDT 2009  NO_QUERY   \n",
       "2       337706       0  2014269923  Wed Jun 03 00:59:10 PDT 2009  NO_QUERY   \n",
       "3       465228       0  2175302784  Mon Jun 15 00:36:56 PDT 2009  NO_QUERY   \n",
       "4      1280419       4  2001635016  Tue Jun 02 01:32:44 PDT 2009  NO_QUERY   \n",
       "..         ...     ...         ...                           ...       ...   \n",
       "95     1338972       4  2018419297  Wed Jun 03 09:56:19 PDT 2009  NO_QUERY   \n",
       "96     1532048       4  2178167599  Mon Jun 15 07:17:46 PDT 2009  NO_QUERY   \n",
       "97     1020485       4  1882384445  Fri May 22 06:46:30 PDT 2009  NO_QUERY   \n",
       "98      820937       4  1553893253  Sat Apr 18 15:30:02 PDT 2009  NO_QUERY   \n",
       "99      588988       0  2216838047  Wed Jun 17 20:02:12 PDT 2009  NO_QUERY   \n",
       "\n",
       "             user                                               text  \n",
       "0      andychong9     dad having fever again.. not looking too good   \n",
       "1       SLeepdepD       @judahgabriel i wish i had that much to say   \n",
       "2   BlackCat_Saya  @rohan_01 you know..it's really sad that u kno...  \n",
       "3        sawarahh                         @cathicks i don't get it.   \n",
       "4       essieruth      @dougsky i will have a look when i get home!   \n",
       "..            ...                                                ...  \n",
       "95    kreativlink  @plainbananas italian ice cream? ohhhh.... wan...  \n",
       "96   alyssasilcox  @babiibecca yeah idk im supposed to go back to...  \n",
       "97      paulbeebe  #followfriday @ryanhurst @disklabs - both comp...  \n",
       "98    ciberesfera                                   @undertheground   \n",
       "99         Balasi                    i am craving for japanese food   \n",
       "\n",
       "[100 rows x 7 columns]"
      ]
     },
     "execution_count": 4,
     "metadata": {},
     "output_type": "execute_result"
    }
   ],
   "source": [
    "pd.read_csv(\"datasets/tweet dataset.csv\")"
   ]
  },
  {
   "cell_type": "code",
   "execution_count": 5,
   "metadata": {},
   "outputs": [
    {
     "name": "stderr",
     "output_type": "stream",
     "text": [
      "c:\\Users\\abhay\\OneDrive\\Desktop\\AT\\MS(R)\\CNN\\.conda\\Lib\\site-packages\\keras\\src\\layers\\core\\embedding.py:86: UserWarning: Argument `input_length` is deprecated. Just remove it.\n",
      "  warnings.warn(\n"
     ]
    },
    {
     "data": {
      "text/html": [
       "<pre style=\"white-space:pre;overflow-x:auto;line-height:normal;font-family:Menlo,'DejaVu Sans Mono',consolas,'Courier New',monospace\"><span style=\"font-weight: bold\">Model: \"sequential\"</span>\n",
       "</pre>\n"
      ],
      "text/plain": [
       "\u001b[1mModel: \"sequential\"\u001b[0m\n"
      ]
     },
     "metadata": {},
     "output_type": "display_data"
    },
    {
     "data": {
      "text/html": [
       "<pre style=\"white-space:pre;overflow-x:auto;line-height:normal;font-family:Menlo,'DejaVu Sans Mono',consolas,'Courier New',monospace\">┏━━━━━━━━━━━━━━━━━━━━━━━━━━━━━━━━━┳━━━━━━━━━━━━━━━━━━━━━━━━┳━━━━━━━━━━━━━━━┓\n",
       "┃<span style=\"font-weight: bold\"> Layer (type)                    </span>┃<span style=\"font-weight: bold\"> Output Shape           </span>┃<span style=\"font-weight: bold\">       Param # </span>┃\n",
       "┡━━━━━━━━━━━━━━━━━━━━━━━━━━━━━━━━━╇━━━━━━━━━━━━━━━━━━━━━━━━╇━━━━━━━━━━━━━━━┩\n",
       "│ embedding (<span style=\"color: #0087ff; text-decoration-color: #0087ff\">Embedding</span>)           │ ?                      │   <span style=\"color: #00af00; text-decoration-color: #00af00\">0</span> (unbuilt) │\n",
       "├─────────────────────────────────┼────────────────────────┼───────────────┤\n",
       "│ lstm (<span style=\"color: #0087ff; text-decoration-color: #0087ff\">LSTM</span>)                     │ ?                      │   <span style=\"color: #00af00; text-decoration-color: #00af00\">0</span> (unbuilt) │\n",
       "├─────────────────────────────────┼────────────────────────┼───────────────┤\n",
       "│ dense (<span style=\"color: #0087ff; text-decoration-color: #0087ff\">Dense</span>)                   │ ?                      │   <span style=\"color: #00af00; text-decoration-color: #00af00\">0</span> (unbuilt) │\n",
       "└─────────────────────────────────┴────────────────────────┴───────────────┘\n",
       "</pre>\n"
      ],
      "text/plain": [
       "┏━━━━━━━━━━━━━━━━━━━━━━━━━━━━━━━━━┳━━━━━━━━━━━━━━━━━━━━━━━━┳━━━━━━━━━━━━━━━┓\n",
       "┃\u001b[1m \u001b[0m\u001b[1mLayer (type)                   \u001b[0m\u001b[1m \u001b[0m┃\u001b[1m \u001b[0m\u001b[1mOutput Shape          \u001b[0m\u001b[1m \u001b[0m┃\u001b[1m \u001b[0m\u001b[1m      Param #\u001b[0m\u001b[1m \u001b[0m┃\n",
       "┡━━━━━━━━━━━━━━━━━━━━━━━━━━━━━━━━━╇━━━━━━━━━━━━━━━━━━━━━━━━╇━━━━━━━━━━━━━━━┩\n",
       "│ embedding (\u001b[38;5;33mEmbedding\u001b[0m)           │ ?                      │   \u001b[38;5;34m0\u001b[0m (unbuilt) │\n",
       "├─────────────────────────────────┼────────────────────────┼───────────────┤\n",
       "│ lstm (\u001b[38;5;33mLSTM\u001b[0m)                     │ ?                      │   \u001b[38;5;34m0\u001b[0m (unbuilt) │\n",
       "├─────────────────────────────────┼────────────────────────┼───────────────┤\n",
       "│ dense (\u001b[38;5;33mDense\u001b[0m)                   │ ?                      │   \u001b[38;5;34m0\u001b[0m (unbuilt) │\n",
       "└─────────────────────────────────┴────────────────────────┴───────────────┘\n"
      ]
     },
     "metadata": {},
     "output_type": "display_data"
    },
    {
     "data": {
      "text/html": [
       "<pre style=\"white-space:pre;overflow-x:auto;line-height:normal;font-family:Menlo,'DejaVu Sans Mono',consolas,'Courier New',monospace\"><span style=\"font-weight: bold\"> Total params: </span><span style=\"color: #00af00; text-decoration-color: #00af00\">0</span> (0.00 B)\n",
       "</pre>\n"
      ],
      "text/plain": [
       "\u001b[1m Total params: \u001b[0m\u001b[38;5;34m0\u001b[0m (0.00 B)\n"
      ]
     },
     "metadata": {},
     "output_type": "display_data"
    },
    {
     "data": {
      "text/html": [
       "<pre style=\"white-space:pre;overflow-x:auto;line-height:normal;font-family:Menlo,'DejaVu Sans Mono',consolas,'Courier New',monospace\"><span style=\"font-weight: bold\"> Trainable params: </span><span style=\"color: #00af00; text-decoration-color: #00af00\">0</span> (0.00 B)\n",
       "</pre>\n"
      ],
      "text/plain": [
       "\u001b[1m Trainable params: \u001b[0m\u001b[38;5;34m0\u001b[0m (0.00 B)\n"
      ]
     },
     "metadata": {},
     "output_type": "display_data"
    },
    {
     "data": {
      "text/html": [
       "<pre style=\"white-space:pre;overflow-x:auto;line-height:normal;font-family:Menlo,'DejaVu Sans Mono',consolas,'Courier New',monospace\"><span style=\"font-weight: bold\"> Non-trainable params: </span><span style=\"color: #00af00; text-decoration-color: #00af00\">0</span> (0.00 B)\n",
       "</pre>\n"
      ],
      "text/plain": [
       "\u001b[1m Non-trainable params: \u001b[0m\u001b[38;5;34m0\u001b[0m (0.00 B)\n"
      ]
     },
     "metadata": {},
     "output_type": "display_data"
    },
    {
     "name": "stdout",
     "output_type": "stream",
     "text": [
      "Epoch 1/3\n",
      "\u001b[1m2/2\u001b[0m \u001b[32m━━━━━━━━━━━━━━━━━━━━\u001b[0m\u001b[37m\u001b[0m \u001b[1m2s\u001b[0m 309ms/step - accuracy: 0.1771 - loss: 1.6077 - val_accuracy: 0.4375 - val_loss: 1.5938\n",
      "Epoch 2/3\n",
      "\u001b[1m2/2\u001b[0m \u001b[32m━━━━━━━━━━━━━━━━━━━━\u001b[0m\u001b[37m\u001b[0m \u001b[1m0s\u001b[0m 68ms/step - accuracy: 0.6875 - loss: 1.5852 - val_accuracy: 0.5000 - val_loss: 1.5720\n",
      "Epoch 3/3\n",
      "\u001b[1m2/2\u001b[0m \u001b[32m━━━━━━━━━━━━━━━━━━━━\u001b[0m\u001b[37m\u001b[0m \u001b[1m0s\u001b[0m 58ms/step - accuracy: 0.8438 - loss: 1.5575 - val_accuracy: 0.6250 - val_loss: 1.5434\n",
      "\u001b[1m1/1\u001b[0m \u001b[32m━━━━━━━━━━━━━━━━━━━━\u001b[0m\u001b[37m\u001b[0m \u001b[1m0s\u001b[0m 131ms/step\n",
      "Accuracy: 0.55\n"
     ]
    },
    {
     "data": {
      "image/png": "[encoded data removed]",
      "text/plain": [
       "<Figure size 1000x700 with 2 Axes>"
      ]
     },
     "metadata": {},
     "output_type": "display_data"
    }
   ],
   "source": [
    "import numpy as np\n",
    "import pandas as pd\n",
    "from sklearn.model_selection import train_test_split\n",
    "from sklearn.metrics import confusion_matrix, accuracy_score\n",
    "import matplotlib.pyplot as plt\n",
    "from tensorflow.keras.preprocessing.text import Tokenizer\n",
    "from tensorflow.keras.preprocessing.sequence import pad_sequences\n",
    "from tensorflow.keras.models import Sequential\n",
    "from tensorflow.keras.layers import Embedding, LSTM, Dense\n",
    "from tensorflow.keras.utils import to_categorical\n",
    "\n",
    "# Sample data loading (Make sure to replace this with your actual file path and columns)\n",
    "data = pd.read_csv('datasets/tweet dataset.csv')\n",
    "texts = data['text']  # Replace 'text_column_name' with the name of your text column\n",
    "targets = data['target']  # Replace 'target_column_name' with the name of your target column\n",
    "\n",
    "# Text preprocessing\n",
    "tokenizer = Tokenizer()\n",
    "tokenizer.fit_on_texts(texts)\n",
    "sequences = tokenizer.texts_to_sequences(texts)\n",
    "x = pad_sequences(sequences, maxlen=100)  # maxlen depends on text length distribution\n",
    "\n",
    "# Convert labels to categorical\n",
    "y = to_categorical(targets)\n",
    "\n",
    "# Splitting the data into training and testing sets\n",
    "x_train, x_test, y_train, y_test = train_test_split(x, y, test_size=0.2, random_state=42)\n",
    "\n",
    "# Model building\n",
    "model = Sequential()\n",
    "model.add(Embedding(input_dim=len(tokenizer.word_index) + 1, output_dim=50, input_length=100))\n",
    "model.add(LSTM(50))\n",
    "model.add(Dense(y.shape[1], activation='softmax'))\n",
    "\n",
    "model.compile(optimizer='adam', loss='categorical_crossentropy', metrics=['accuracy'])\n",
    "model.summary()\n",
    "\n",
    "# Model training\n",
    "model.fit(x_train, y_train, epochs=3, batch_size=32, validation_split=0.2)\n",
    "\n",
    "# Evaluation\n",
    "y_pred = model.predict(x_test)\n",
    "y_pred_classes = np.argmax(y_pred, axis=1)\n",
    "y_test_classes = np.argmax(y_test, axis=1)\n",
    "accuracy = accuracy_score(y_test_classes, y_pred_classes)\n",
    "print(f'Accuracy: {accuracy}')\n",
    "\n",
    "# Confusion matrix visualization\n",
    "conf_matrix = confusion_matrix(y_test_classes, y_pred_classes)\n",
    "plt.figure(figsize=(10, 7))\n",
    "plt.imshow(conf_matrix, interpolation='nearest', cmap=plt.cm.Blues)\n",
    "plt.title('Confusion Matrix')\n",
    "plt.colorbar()\n",
    "tick_marks = np.arange(len(np.unique(targets)))\n",
    "plt.xticks(tick_marks, np.unique(targets), rotation=45)\n",
    "plt.yticks(tick_marks, np.unique(targets))\n",
    "plt.xlabel('Predicted label')\n",
    "plt.ylabel('True label')\n",
    "plt.show()\n"
   ]
  },
  {
   "cell_type": "code",
   "execution_count": null,
   "metadata": {},
   "outputs": [],
   "source": []
  }
 ],
 "metadata": {
  "kernelspec": {
   "display_name": "Python 3",
   "language": "python",
   "name": "python3"
  },
  "language_info": {
   "codemirror_mode": {
    "name": "ipython",
    "version": 3
   },
   "file_extension": ".py",
   "mimetype": "text/x-python",
   "name": "python",
   "nbconvert_exporter": "python",
   "pygments_lexer": "ipython3",
   "version": "3.11.9"
  }
 },
 "nbformat": 4,
 "nbformat_minor": 2
}
